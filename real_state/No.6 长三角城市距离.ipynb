{
 "cells": [
  {
   "cell_type": "code",
   "execution_count": null,
   "metadata": {
    "collapsed": true
   },
   "outputs": [],
   "source": [
    "import numpy as np\n",
    "from pandas import Series,DataFrame\n",
    "import pandas as pd"
   ]
  },
  {
   "cell_type": "code",
   "execution_count": null,
   "metadata": {
    "collapsed": false
   },
   "outputs": [],
   "source": [
    "location  = pd.read_csv(\"./data/location_changsanjiao.csv\",encoding = 'gb18030')"
   ]
  },
  {
   "cell_type": "code",
   "execution_count": null,
   "metadata": {
    "collapsed": false
   },
   "outputs": [],
   "source": [
    "location"
   ]
  },
  {
   "cell_type": "code",
   "execution_count": null,
   "metadata": {
    "collapsed": false
   },
   "outputs": [],
   "source": [
    "from math import *\n",
    "\n",
    "# input Lat_A 纬度A\n",
    "# input Lng_A 经度A\n",
    "# input Lat_B 纬度B\n",
    "# input Lng_B 经度B\n",
    "# output distance 距离(km)\n",
    "def calcDistance(Lat_A, Lng_A, Lat_B, Lng_B):\n",
    "    if Lat_A == Lat_B:\n",
    "        distance = 0\n",
    "    else:\n",
    "        ra = 6378.140  # 赤道半径 (km)\n",
    "        rb = 6356.755  # 极半径 (km)\n",
    "        flatten = (ra - rb) / ra  # 地球扁率\n",
    "        rad_lat_A = radians(Lat_A)\n",
    "        rad_lng_A = radians(Lng_A)\n",
    "        rad_lat_B = radians(Lat_B)\n",
    "        rad_lng_B = radians(Lng_B)\n",
    "        pA = atan(rb / ra * tan(rad_lat_A))\n",
    "        pB = atan(rb / ra * tan(rad_lat_B))\n",
    "        xx = acos(sin(pA) * sin(pB) + cos(pA) * cos(pB) * cos(rad_lng_A - rad_lng_B))\n",
    "        c1 = (sin(xx) - xx) * (sin(pA) + sin(pB)) ** 2 / cos(xx / 2) ** 2\n",
    "        c2 = (sin(xx) + xx) * (sin(pA) - sin(pB)) ** 2 / sin(xx / 2) ** 2\n",
    "        dr = flatten / 8 * (c1 - c2)\n",
    "        distance = ra * (xx + dr)\n",
    "    return distance\n",
    "\n",
    "Lat_A=32.060255; Lng_A=118.796877 # 南京\n",
    "Lat_B=39.904211; Lng_B=116.407395 # 北京\n",
    "distance=calcDistance(Lat_A,Lng_A,Lat_B,Lng_B)\n",
    "print('(Lat_A, Lng_A)=({0:10.3f},{1:10.3f})'.format(Lat_A,Lng_A))\n",
    "print('(Lat_B, Lng_B)=({0:10.3f},{1:10.3f})'.format(Lat_B,Lng_B))\n",
    "print('Distance={0:10.3f} km'.format(distance))"
   ]
  },
  {
   "cell_type": "code",
   "execution_count": null,
   "metadata": {
    "collapsed": false
   },
   "outputs": [],
   "source": [
    "#  需要小数位数，就设出小数位数\n",
    "data = np.arange(361.000).reshape(19,19)\n",
    "data = DataFrame(data,index = range(0,19),columns = range(0,19))"
   ]
  },
  {
   "cell_type": "code",
   "execution_count": null,
   "metadata": {
    "collapsed": false
   },
   "outputs": [],
   "source": [
    "all_cities_list = list()\n",
    "for i in range(0,19):\n",
    "    for j in range (0,19):\n",
    "        temp_location = list(location.ix[i,1:3]) + list(location.ix[j,1:3])\n",
    "        distance = calcDistance(*temp_location)\n",
    "        data[j][i] = distance"
   ]
  },
  {
   "cell_type": "code",
   "execution_count": null,
   "metadata": {
    "collapsed": false
   },
   "outputs": [],
   "source": [
    "data.index = location[\"city\"]\n",
    "data.columns = location[\"city\"]"
   ]
  },
  {
   "cell_type": "code",
   "execution_count": null,
   "metadata": {
    "collapsed": false
   },
   "outputs": [],
   "source": [
    "data"
   ]
  },
  {
   "cell_type": "code",
   "execution_count": null,
   "metadata": {
    "collapsed": false
   },
   "outputs": [],
   "source": [
    "data.to_csv(\"C:/Users/Administrator/Documents/Python Scripts/the copy of lxx/data/distance_changsanjiao.csv\",encoding = 'gb18030')"
   ]
  },
  {
   "cell_type": "code",
   "execution_count": null,
   "metadata": {
    "collapsed": true
   },
   "outputs": [],
   "source": [
    "data_reverse = 1.0 / data"
   ]
  },
  {
   "cell_type": "code",
   "execution_count": null,
   "metadata": {
    "collapsed": false
   },
   "outputs": [],
   "source": [
    "data_reverse.to_csv(\"C:/Users/Administrator/Documents/Python Scripts/the copy of lxx/data/distance_changsanjiao_reverse.csv\",encoding = 'gb18030')"
   ]
  },
  {
   "cell_type": "markdown",
   "metadata": {},
   "source": [
    "# 另一种方法：用列表的列表生成 DataFrame"
   ]
  },
  {
   "cell_type": "code",
   "execution_count": null,
   "metadata": {
    "collapsed": true
   },
   "outputs": [],
   "source": [
    "all_cities_list = list()\n",
    "\n",
    "for i in range(0, 20):     \n",
    "    city_list = list()\n",
    "    \n",
    "    for j in range(0, 20):\n",
    "        temp_location = list(location.ix[i, 1:3]) + (list(location.ix[j, 1:3]))\n",
    "        distance = calcDistance(*temp_location)\n",
    "        city_list.append(distance)     #生成行列表\n",
    "        \n",
    "    all_cities_list.append(city_list)  #将行列表叠加起来"
   ]
  },
  {
   "cell_type": "code",
   "execution_count": null,
   "metadata": {
    "collapsed": true
   },
   "outputs": [],
   "source": [
    "result = DataFrame(all_cities_list)"
   ]
  },
  {
   "cell_type": "markdown",
   "metadata": {},
   "source": [
    "### 下面就与方法1一样了：修改index，columns，保存"
   ]
  }
 ],
 "metadata": {
  "kernelspec": {
   "display_name": "Python 2",
   "language": "python",
   "name": "python2"
  },
  "language_info": {
   "codemirror_mode": {
    "name": "ipython",
    "version": 2
   },
   "file_extension": ".py",
   "mimetype": "text/x-python",
   "name": "python",
   "nbconvert_exporter": "python",
   "pygments_lexer": "ipython2",
   "version": "2.7.11"
  }
 },
 "nbformat": 4,
 "nbformat_minor": 0
}
