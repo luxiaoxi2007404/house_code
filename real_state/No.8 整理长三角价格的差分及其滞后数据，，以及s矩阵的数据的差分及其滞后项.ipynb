{
 "cells": [
  {
   "cell_type": "code",
   "execution_count": null,
   "metadata": {
    "collapsed": true
   },
   "outputs": [],
   "source": [
    "import numpy as np\n",
    "from pandas import Series,DataFrame\n",
    "import pandas as pd"
   ]
  },
  {
   "cell_type": "code",
   "execution_count": null,
   "metadata": {
    "collapsed": false
   },
   "outputs": [],
   "source": [
    "price = pd.read_csv(\"C:/Users/Administrator/Documents/Python Scripts/the copy of lxx/data/changsanjiao_price_location_reverse.csv\",encoding = 'gb18030')"
   ]
  },
  {
   "cell_type": "code",
   "execution_count": null,
   "metadata": {
    "collapsed": true
   },
   "outputs": [],
   "source": [
    "product = pd.read_csv(\"C:/Users/Administrator/Documents/Python Scripts/the copy of lxx/data/product_changsanjiao.csv\",encoding = 'gb18030')"
   ]
  },
  {
   "cell_type": "markdown",
   "metadata": {},
   "source": [
    "# 这一部分为中心区域的数据处理"
   ]
  },
  {
   "cell_type": "code",
   "execution_count": null,
   "metadata": {
    "collapsed": false
   },
   "outputs": [],
   "source": [
    "# 选取第一行  上海（仅保留数据部分）  自动返回为一个Series\n",
    "variable_raw_0 = price.xs(0)[1:]\n",
    "variable_0 = price.xs(0)[1:]"
   ]
  },
  {
   "cell_type": "code",
   "execution_count": null,
   "metadata": {
    "collapsed": false
   },
   "outputs": [],
   "source": [
    "# 做差分\n",
    "variable_0 = variable_0.diff()[1:]\n",
    "variable_0 = -1 * variable_0\n",
    "variable_0.index = range(len(variable_0))"
   ]
  },
  {
   "cell_type": "code",
   "execution_count": null,
   "metadata": {
    "collapsed": true
   },
   "outputs": [],
   "source": [
    "all_diff = DataFrame()"
   ]
  },
  {
   "cell_type": "code",
   "execution_count": null,
   "metadata": {
    "collapsed": true
   },
   "outputs": [],
   "source": [
    "# 生成滞后4阶的数据表\n",
    "for i in range(0,5):\n",
    "    temp = variable_0[i:i+65]\n",
    "    temp.index = range(len(temp))\n",
    "    all_diff[i] = temp"
   ]
  },
  {
   "cell_type": "code",
   "execution_count": null,
   "metadata": {
    "collapsed": false
   },
   "outputs": [],
   "source": [
    "#  成品数据表\n",
    "all_diff"
   ]
  },
  {
   "cell_type": "code",
   "execution_count": null,
   "metadata": {
    "collapsed": true
   },
   "outputs": [],
   "source": []
  },
  {
   "cell_type": "code",
   "execution_count": null,
   "metadata": {
    "collapsed": false
   },
   "outputs": [],
   "source": [
    "# product 部分的数据处理\n",
    "product_raw_0 = product.xs(0)[1:]\n",
    "product_0 = product.xs(0)[1:]\n",
    "product_0 = product_0.diff()[1:]\n",
    "product_0 = -1 * product_0\n",
    "product_0.index = range(len(product_0))"
   ]
  },
  {
   "cell_type": "code",
   "execution_count": null,
   "metadata": {
    "collapsed": false
   },
   "outputs": [],
   "source": [
    "for i in range(0,4):\n",
    "    temp = product_0[i+1:(i+1+65)]\n",
    "    temp.index = range(len(temp))\n",
    "    all_diff[i+5] = temp"
   ]
  },
  {
   "cell_type": "code",
   "execution_count": null,
   "metadata": {
    "collapsed": true
   },
   "outputs": [],
   "source": [
    "variable_raw_0.index = range(len(variable_raw_0))\n",
    "product_raw_0.index = range(len(product_raw_0))\n",
    "price_product = (variable_raw_0 - product_raw_0)[1:]\n",
    "price_product.index = range(len(price_product))\n",
    "all_diff[9] = price_product[:65]"
   ]
  },
  {
   "cell_type": "code",
   "execution_count": null,
   "metadata": {
    "collapsed": false
   },
   "outputs": [],
   "source": [
    "all_diff.columns = ['t','t-1','t-2','t-3','t-4','p-1','p-2','p-3','p-4','t-p']"
   ]
  },
  {
   "cell_type": "code",
   "execution_count": null,
   "metadata": {
    "collapsed": false
   },
   "outputs": [],
   "source": [
    "all_diff.to_csv(\"C:/Users/Administrator/Documents/Python Scripts/the copy of lxx/data/regression_0/0.csv\", encoding = 'gb18030', index=None)"
   ]
  },
  {
   "cell_type": "code",
   "execution_count": null,
   "metadata": {
    "collapsed": true
   },
   "outputs": [],
   "source": [
    "# 这一部分是后来添加的，因为后续要用\n",
    "price_0 = all_diff[['t', 't-1', 't-2', 't-3', 't-4']]\n",
    "price_0.columns = ['t0', 't0-1', 't0-2', 't0-3', 't0-4']"
   ]
  },
  {
   "cell_type": "markdown",
   "metadata": {},
   "source": [
    "# 这一部分是非中心区域的数据处理"
   ]
  },
  {
   "cell_type": "code",
   "execution_count": null,
   "metadata": {
    "collapsed": false
   },
   "outputs": [],
   "source": [
    " for i in range (1,19):\n",
    "    all_diff = DataFrame()\n",
    "    variable_raw_i = price.xs(i)[1:]\n",
    "    variable_i = price.xs(i)[1:]  \n",
    "    variable_i = variable_i.diff()[1:]\n",
    "    variable_i = -1 * variable_i\n",
    "    variable_i.index = range(len(variable_i))\n",
    "    for j in range (0,5):\n",
    "        temp = variable_i[j:j+65]\n",
    "        temp.index = range(len(temp))\n",
    "        all_diff[j] = temp\n",
    "        \n",
    "        \n",
    "    product_raw_i = product.xs(0)[1:]\n",
    "    product_i = product.xs(0)[1:]\n",
    "    product_i = product_i.diff()[1:]\n",
    "    product_i = -1 * product_i\n",
    "    product_i.index = range(len(product_i))\n",
    "\n",
    "    \n",
    "    for j in range(0,4):\n",
    "        temp = product_i[j+1:(j+1+65)]\n",
    "        temp.index = range(len(temp))\n",
    "        all_diff[j+5] = temp\n",
    "    \n",
    "    variable_raw_i.index = range(len(variable_raw_i))\n",
    "    product_raw_i.index = range(len(product_raw_i))\n",
    "    price_product = (variable_raw_i - product_raw_i)[1:]\n",
    "    price_product.index = range(len(price_product))\n",
    "    all_diff[9] = price_product[:65]\n",
    "\n",
    "    price_price_0 = variable_raw_i[1:] - variable_raw_0[1:]\n",
    "    price_price_0.index = range(len(price_price_0))\n",
    "    all_diff[10] = price_price_0[:65] \n",
    "    \n",
    "    all_diff.columns = ['t','t-1','t-2','t-3','t-4','p-1','p-2','p-3','p-4','t-p','t-t0']\n",
    "    ###########  拼接的方法：利用轴######################\n",
    "    data = pd.concat([all_diff, price_0], axis=1)\n",
    "    \n",
    "    filename = 'C:/Users/Administrator/Documents/Python Scripts/the copy of lxx/data/regression_0/'+ str(i)+'.csv'\n",
    "    data.to_csv(filename, encoding = 'gb18030', index=None)"
   ]
  },
  {
   "cell_type": "code",
   "execution_count": null,
   "metadata": {
    "collapsed": false
   },
   "outputs": [],
   "source": []
  },
  {
   "cell_type": "code",
   "execution_count": null,
   "metadata": {
    "collapsed": true
   },
   "outputs": [],
   "source": []
  }
 ],
 "metadata": {
  "kernelspec": {
   "display_name": "Python 2",
   "language": "python",
   "name": "python2"
  },
  "language_info": {
   "codemirror_mode": {
    "name": "ipython",
    "version": 2
   },
   "file_extension": ".py",
   "mimetype": "text/x-python",
   "name": "python",
   "nbconvert_exporter": "python",
   "pygments_lexer": "ipython2",
   "version": "2.7.11"
  }
 },
 "nbformat": 4,
 "nbformat_minor": 0
}
