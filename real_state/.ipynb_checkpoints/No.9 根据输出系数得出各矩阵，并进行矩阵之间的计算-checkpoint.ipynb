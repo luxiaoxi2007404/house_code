{
 "cells": [
  {
   "cell_type": "code",
   "execution_count": 1,
   "metadata": {
    "collapsed": false
   },
   "outputs": [],
   "source": [
    "import numpy as np\n",
    "from pandas import Series,DataFrame\n",
    "import pandas as pd\n",
    "from numpy.linalg import inv\n",
    "import math"
   ]
  },
  {
   "cell_type": "code",
   "execution_count": 5,
   "metadata": {
    "collapsed": false
   },
   "outputs": [],
   "source": [
    "# 矩阵C\n",
    "coe = pd.read_csv(\"./data/regression_0/regression_coe_0.csv\",encoding= 'gb18030')\n",
    "coe = coe.drop(\"names\",axis = 1)\n",
    "for i in range(11,16):\n",
    "    c = np.zeros([19,19])\n",
    "    c[0] = coe.ix[i]\n",
    "    c = c.T\n",
    "    c = DataFrame(c)\n",
    "    filename = \"./data/regression_0/C/C\"+ str(i-11) + \".csv\"\n",
    "    c.to_csv(filename,encoding = 'gb18030',index=None)"
   ]
  },
  {
   "cell_type": "code",
   "execution_count": 3,
   "metadata": {
    "collapsed": false
   },
   "outputs": [],
   "source": [
    "# C0 -> R\n",
    "c0 = pd.read_csv(\"C:/Users/Administrator/Documents/Python Scripts/the copy of lxx/data/regression_0/C/C0.csv\", encoding = 'gb18030')\n",
    "r = DataFrame(inv(np.eye(19)-c0))\n",
    "r.to_csv(\"C:/Users/Administrator/Documents/Python Scripts/the copy of lxx/data/regression_0/R/R.csv\", encoding = 'gb18030',index=None)"
   ]
  },
  {
   "cell_type": "code",
   "execution_count": 4,
   "metadata": {
    "collapsed": false
   },
   "outputs": [],
   "source": [
    "# 矩阵A\n",
    "coe = pd.read_csv(\"C:/Users/Administrator/Documents/Python Scripts/the copy of lxx/data/regression_0/regression_coe_0.csv\",encoding= 'gb18030')\n",
    " ## ############################################### 删除不用的列  ##############################################################\n",
    "coe = coe.drop(\"names\", axis = 1)\n",
    "for i in range(5,9):\n",
    "    a = DataFrame(np.diag(coe.ix[i]))\n",
    "    filename = \"C:/Users/Administrator/Documents/Python Scripts/the copy of lxx/data/regression_0/A/A\"+ str(i-4) + \".csv\"\n",
    "    a.to_csv(filename,encoding = 'gb18030',index=None)"
   ]
  },
  {
   "cell_type": "code",
   "execution_count": 5,
   "metadata": {
    "collapsed": false
   },
   "outputs": [],
   "source": [
    "# 矩阵G\n",
    "s = pd.read_csv(\"C:/Users/Administrator/Documents/Python Scripts/the copy of lxx/data/distance_changsanjiao_reverse.csv\", encoding = 'gb18030')\n",
    "s = s.drop(\"city\",axis = 1)\n",
    "b = pd.read_csv(\"C:/Users/Administrator/Documents/Python Scripts/the copy of lxx/data/regression_0/regression_coe_0.csv\", encoding = 'gb18030')\n",
    "b = b.drop(\"names\",axis = 1)\n",
    "\n",
    "for i in range(1,5):\n",
    "    g = DataFrame()\n",
    "    b_vector = b.ix[i]\n",
    "    for j in range(len(b_vector)):\n",
    "        bs = b_vector[j] * s.ix[j]\n",
    "        g[j] = bs\n",
    "    g = g.T\n",
    "    g.columns = range(19)\n",
    "    filename = \"C:/Users/Administrator/Documents/Python Scripts/the copy of lxx/data/regression_0/G/G\"+ str(i) + \".csv\"\n",
    "    g.to_csv(filename,encoding = 'gb18030',index=None)"
   ]
  },
  {
   "cell_type": "code",
   "execution_count": 6,
   "metadata": {
    "collapsed": false
   },
   "outputs": [],
   "source": [
    "# 矩阵H\n",
    "s = pd.read_csv(\"C:/Users/Administrator/Documents/Python Scripts/the copy of lxx/data/distance_changsanjiao_reverse.csv\", encoding = 'gb18030')\n",
    "s = s.drop(\"city\",axis = 1)\n",
    "f = pd.read_csv(\"C:/Users/Administrator/Documents/Python Scripts/the copy of lxx/data/regression_0/regression_coe_0.csv\", encoding = 'gb18030')\n",
    "f = f.drop(\"names\",axis = 1)\n",
    "f_vector = f.ix[9]\n",
    "\n",
    "h1 = np.diag(f_vector)\n",
    "\n",
    "h2 = np.diag(f.ix[10])\n",
    "\n",
    "h3 = np.zeros([19,19])\n",
    "h3[0] = f.ix[10]\n",
    "h3 = h3.T\n",
    "\n",
    "h4 = DataFrame()\n",
    "for j in range(len(f_vector)):\n",
    "    fs = f_vector[j]*s.ix[j]\n",
    "    h4[j] = fs\n",
    "h4 = h4.T\n",
    "h4.columns = range(19)\n",
    "\n",
    "h = h1 + h2 - h3 - h4\n",
    "\n",
    "h.to_csv(\"C:/Users/Administrator/Documents/Python Scripts/the copy of lxx/data/regression_0/H/H.csv\", encoding = 'gb18030',index=None)"
   ]
  },
  {
   "cell_type": "code",
   "execution_count": 7,
   "metadata": {
    "collapsed": false
   },
   "outputs": [],
   "source": [
    "# 矩阵pi\n",
    "pi = DataFrame(np.dot(r, h))\n",
    "pi\n",
    "pi.to_csv(\"C:/Users/Administrator/Documents/Python Scripts/the copy of lxx/data/regression_0/pi/pi.csv\", encoding = 'gb18030',index=None)"
   ]
  },
  {
   "cell_type": "code",
   "execution_count": 8,
   "metadata": {
    "collapsed": true
   },
   "outputs": [],
   "source": [
    "# 矩阵gama\n",
    "for i in range(1,5):\n",
    "    a_filename = \"C:/Users/Administrator/Documents/Python Scripts/the copy of lxx/data/regression_0/A/A\"+ str(i) + \".csv\"\n",
    "    a = pd.read_csv(a_filename, encoding = 'gb18030')\n",
    "    g_filename = \"C:/Users/Administrator/Documents/Python Scripts/the copy of lxx/data/regression_0/G/G\"+ str(i) + \".csv\"\n",
    "    g = pd.read_csv(g_filename, encoding = 'gb18030')\n",
    "    c_filename = \"C:/Users/Administrator/Documents/Python Scripts/the copy of lxx/data/regression_0/C/C\"+ str(i) + \".csv\"\n",
    "    c = pd.read_csv(c_filename, encoding = 'gb18030')\n",
    "    ag = np.add(a,g)\n",
    "    agc = np.add(ag,c)\n",
    "    gama = DataFrame(np.dot(r, agc))\n",
    "    gama_filename = \"C:/Users/Administrator/Documents/Python Scripts/the copy of lxx/data/regression_0/gama/gama\" + str(i) + \".csv\"\n",
    "    gama.to_csv(gama_filename, encoding = 'gb18030', index=None)"
   ]
  },
  {
   "cell_type": "code",
   "execution_count": 9,
   "metadata": {
    "collapsed": false
   },
   "outputs": [],
   "source": [
    "## phi1\n",
    "gama1 = pd.read_csv(\"C:/Users/Administrator/Documents/Python Scripts/the copy of lxx/data/regression_0/gama/gama1.csv\", encoding = 'gb18030')\n",
    "ep = np.add(np.eye(19),pi) \n",
    "phi1 = np.add(ep,gama1)\n",
    "phi1.to_csv(\"C:/Users/Administrator/Documents/Python Scripts/the copy of lxx/data/regression_0/phi/phi1.csv\", encoding = 'gb18030',index=None)\n",
    "\n",
    "## phi2\n",
    "gama2 = pd.read_csv(\"C:/Users/Administrator/Documents/Python Scripts/the copy of lxx/data/regression_0/gama/gama2.csv\", encoding = 'gb18030')\n",
    "phi2 = np.subtract(gama2 , gama1)\n",
    "phi2.to_csv(\"C:/Users/Administrator/Documents/Python Scripts/the copy of lxx/data/regression_0/phi/phi2.csv\", encoding = 'gb18030',index=None)\n",
    "\n",
    "## phi3\n",
    "gama3 = pd.read_csv(\"C:/Users/Administrator/Documents/Python Scripts/the copy of lxx/data/regression_0/gama/gama3.csv\", encoding = 'gb18030')\n",
    "phi3 = np.subtract(gama3 , gama2)\n",
    "phi3.to_csv(\"C:/Users/Administrator/Documents/Python Scripts/the copy of lxx/data/regression_0/phi/phi3.csv\", encoding = 'gb18030',index=None)\n",
    "\n",
    "## phi4\n",
    "gama4 = pd.read_csv(\"C:/Users/Administrator/Documents/Python Scripts/the copy of lxx/data/regression_0/gama/gama4.csv\", encoding = 'gb18030')\n",
    "phi4 = np.subtract(gama4 , gama3)\n",
    "phi4.to_csv(\"C:/Users/Administrator/Documents/Python Scripts/the copy of lxx/data/regression_0/phi/phi4.csv\", encoding = 'gb18030',index=None)\n",
    "\n",
    "## phi5\n",
    "phi5 = -1* gama4\n",
    "phi5.to_csv(\"C:/Users/Administrator/Documents/Python Scripts/the copy of lxx/data/regression_0/phi/phi5.csv\", encoding = 'gb18030',index=None)"
   ]
  },
  {
   "cell_type": "code",
   "execution_count": 10,
   "metadata": {
    "collapsed": false
   },
   "outputs": [],
   "source": [
    "# psi0\n",
    "psi0 = np.eye(19)\n",
    "psi0 = DataFrame(psi0)\n",
    "psi0.to_csv(\"C:/Users/Administrator/Documents/Python Scripts/the copy of lxx/data/regression_0/psi/psi0.csv\", encoding = 'gb18030',index=None)\n",
    "\n",
    "# psi1\n",
    "psi1 = np.dot(phi1,psi0)\n",
    "psi1 = DataFrame(psi1)\n",
    "psi1.to_csv(\"C:/Users/Administrator/Documents/Python Scripts/the copy of lxx/data/regression_0/psi/psi1.csv\", encoding = 'gb18030',index=None)\n",
    "\n",
    "# psi2\n",
    "psi2 = np.add(np.dot(phi1,psi1),np.dot(phi2,psi0))\n",
    "psi2 = DataFrame(psi2)\n",
    "psi2.to_csv(\"C:/Users/Administrator/Documents/Python Scripts/the copy of lxx/data/regression_0/psi/psi2.csv\", encoding = 'gb18030',index=None)\n",
    "\n",
    "# psi3\n",
    "psi3 = np.add(np.dot(phi1,psi2),np.dot(phi2,psi1))\n",
    "psi3 = np.add(psi3,np.dot(phi3,psi0))\n",
    "psi3 = DataFrame(psi3)\n",
    "psi3.to_csv(\"C:/Users/Administrator/Documents/Python Scripts/the copy of lxx/data/regression_0/psi/psi3.csv\", encoding = 'gb18030',index=None)\n",
    "\n",
    "# psi4\n",
    "psi4 = np.add(np.dot(phi1,psi3),np.dot(phi2,psi2))\n",
    "psi4 = np.add(psi4,np.dot(phi3,psi1))\n",
    "psi4 = np.add(psi4,np.dot(phi4,psi0))\n",
    "psi4 = DataFrame(psi4)\n",
    "psi4.to_csv(\"C:/Users/Administrator/Documents/Python Scripts/the copy of lxx/data/regression_0/psi/psi4.csv\", encoding = 'gb18030',index=None)\n",
    "\n",
    "# psi5--psi19\n",
    "for i in range(5,20):\n",
    "    a1 = \"C:/Users/Administrator/Documents/Python Scripts/the copy of lxx/data/regression_0/psi/psi\" + str(i-1) + \".csv\"\n",
    "    b1 = \"C:/Users/Administrator/Documents/Python Scripts/the copy of lxx/data/regression_0/psi/psi\" + str(i-2) + \".csv\"\n",
    "    c1 = \"C:/Users/Administrator/Documents/Python Scripts/the copy of lxx/data/regression_0/psi/psi\" + str(i-3) + \".csv\"\n",
    "    d1 = \"C:/Users/Administrator/Documents/Python Scripts/the copy of lxx/data/regression_0/psi/psi\" + str(i-4) + \".csv\"\n",
    "    e1 = \"C:/Users/Administrator/Documents/Python Scripts/the copy of lxx/data/regression_0/psi/psi\" + str(i-5) + \".csv\"\n",
    "    a = pd.read_csv(a1, encoding = 'gb18030')\n",
    "    b = pd.read_csv(b1, encoding = 'gb18030')\n",
    "    c = pd.read_csv(c1, encoding = 'gb18030')\n",
    "    d = pd.read_csv(d1, encoding = 'gb18030') \n",
    "    e = pd.read_csv(e1, encoding = 'gb18030')\n",
    "    \n",
    "    psii = np.add(np.dot(phi1,a),np.dot(phi2,b))\n",
    "    psii = np.add(psii,np.dot(phi3,c))\n",
    "    psii = np.add(psii,np.dot(phi4,d))\n",
    "    psii = np.add(psii,np.dot(phi5,e))\n",
    "    psii = DataFrame(psii)\n",
    "    filename = \"C:/Users/Administrator/Documents/Python Scripts/the copy of lxx/data/regression_0/psi/psi\" +str(i) +\".csv\"\n",
    "    psii.to_csv(filename, encoding = 'gb18030',index=None)"
   ]
  },
  {
   "cell_type": "code",
   "execution_count": 20,
   "metadata": {
    "collapsed": false
   },
   "outputs": [],
   "source": [
    "# 脉冲响应函数gi(h)\n",
    "E = DataFrame(np.eye(19))\n",
    "sigma = pd.read_csv(\"C:/Users/Administrator/Documents/Python Scripts/the copy of lxx/data/regression_0/regression_resid_cov_0.csv\",encoding = 'gb18030')\n",
    "sigma = sigma.drop(\"Unnamed: 0\",axis = 1)\n",
    "#sigma = pd.read_csv(\"C:/Users/Administrator/Documents/Python Scripts/the copy of lxx/data/regression_0/regression_resid_cov_0.csv\", encoding = 'gb18030').drop(\"Unnamed: 0\", axis = 1)\n",
    "sigma.columns = range(19)\n",
    "\n",
    "for h in range(0,20):\n",
    "    df = DataFrame()\n",
    "    filename = \"C:/Users/Administrator/Documents/Python Scripts/the copy of lxx/data/regression_0/psi/psi\" + str(h) + \".csv\"\n",
    "    psi = pd.read_csv(filename,encoding = 'gb18030')\n",
    "    r = pd.read_csv(\"C:/Users/Administrator/Documents/Python Scripts/the copy of lxx/data/regression_0/R/R.csv\", encoding = 'gb18030')\n",
    "    for i in range(0,19):\n",
    "        e = E[i]\n",
    "        sig = sigma.ix[i, i]\n",
    "\n",
    "        gih = np.dot(psi, r)\n",
    "        gih = np.dot(gih, sigma)\n",
    "        gih = np.dot(gih, e)\n",
    "        gih = gih / math.sqrt(sig)\n",
    "        \n",
    "        df[i] = gih\n",
    "    filename = \"C:/Users/Administrator/Documents/Python Scripts/the copy of lxx/data/regression_0/pulse/pulse\" + str(h) + \".csv\"\n",
    "    df.to_csv(filename, encoding = 'gb18030', index=None)     "
   ]
  },
  {
   "cell_type": "code",
   "execution_count": null,
   "metadata": {
    "collapsed": true
   },
   "outputs": [],
   "source": []
  }
 ],
 "metadata": {
  "kernelspec": {
   "display_name": "Python 2",
   "language": "python",
   "name": "python2"
  },
  "language_info": {
   "codemirror_mode": {
    "name": "ipython",
    "version": 2
   },
   "file_extension": ".py",
   "mimetype": "text/x-python",
   "name": "python",
   "nbconvert_exporter": "python",
   "pygments_lexer": "ipython2",
   "version": "2.7.11"
  }
 },
 "nbformat": 4,
 "nbformat_minor": 0
}
