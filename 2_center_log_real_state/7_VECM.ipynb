{
 "cells": [
  {
   "cell_type": "markdown",
   "metadata": {},
   "source": [
    "# 整理19个城市的滞后项，为VECM做准备"
   ]
  },
  {
   "cell_type": "code",
   "execution_count": 1,
   "metadata": {
    "collapsed": true
   },
   "outputs": [],
   "source": [
    "import numpy as np\n",
    "from pandas import Series, DataFrame\n",
    "import pandas as pd"
   ]
  },
  {
   "cell_type": "code",
   "execution_count": 2,
   "metadata": {
    "collapsed": false
   },
   "outputs": [],
   "source": [
    "price = pd.read_csv(\"../data/changsanjiao/price_reverse_changsanjiao.csv\", encoding = 'gb18030')"
   ]
  },
  {
   "cell_type": "markdown",
   "metadata": {},
   "source": [
    "## 城市0 vs i的处理"
   ]
  },
  {
   "cell_type": "code",
   "execution_count": 10,
   "metadata": {
    "collapsed": false
   },
   "outputs": [],
   "source": [
    "for i in range(1,19):\n",
    "    variables_0 = DataFrame()\n",
    "    price_raw_0 = price.xs(0)\n",
    "    price_0 = price.xs(0)\n",
    "    price_0 = price_0.diff()[1:]\n",
    "    price_0 = -1 * price_0\n",
    "    price_0.index = range(len(price_0)) # 得到第0行数据的差分\n",
    "    for j in range(0, 5):\n",
    "        temp = price_i[j:(65+j)]\n",
    "        temp.index = range(len(temp))\n",
    "        variables_0[j] = temp    # 得到 0的 0-4阶滞后\n",
    "    price_raw_i = price.xs(i)\n",
    "    price_i = price.xs(i)\n",
    "    price_i = price_i.diff()[1:]\n",
    "    price_i = -1 * price_i\n",
    "    price_i.index = range(len(price_i)) # 得到第i行数据的差分\n",
    "    for j in range(0,4):\n",
    "        temp = price_i[j+1:(65+j+1)]\n",
    "        temp.index = range(len(temp))\n",
    "        variables_0[j + 5] = temp    # 得到 i的 1-4阶滞后\n",
    "    price0_pricei = price_raw_0[1:] - price_raw_i[1:]\n",
    "    price0_pricei.index = range(len(price0_pricei))\n",
    "    variables_0[10] = price0_pricei[:65]    # 得到p0-p1\n",
    "    variables_0.columns = ['t', 't-1', 't-2', 't-3', 't-4','i-1','i-2','i-3','i-4','t-i']\n",
    "    filename = '../data/changsanjiao/regression_0/vecm/' + str(i) + '.csv'\n",
    "    variables_0.to_csv(filename, encoding = 'gb18030', index=None)"
   ]
  },
  {
   "cell_type": "code",
   "execution_count": 16,
   "metadata": {
    "collapsed": false
   },
   "outputs": [],
   "source": [
    "new_variables_0 = variables_0[[ 't-1', 't-2', 't-3', 't-4']]"
   ]
  },
  {
   "cell_type": "markdown",
   "metadata": {},
   "source": [
    "## 城市i vs 0的处理"
   ]
  },
  {
   "cell_type": "code",
   "execution_count": 18,
   "metadata": {
    "collapsed": false
   },
   "outputs": [],
   "source": [
    "for i in range(1,19):\n",
    "    variables_i = DataFrame()\n",
    "    price_raw_i = price.xs(i)\n",
    "    price_i = price.xs(i)\n",
    "    price_i = price_i.diff()[1:]\n",
    "    price_i = -1 * price_i\n",
    "    price_i.index = range(len(price_i)) # 得到第i行数据的差分\n",
    "    for j in range(0,5):\n",
    "        temp = price_i[j:(65+j)]\n",
    "        temp.index = range(len(temp))\n",
    "        variables_i[j] = temp    # 得到 i的 0-4阶滞后\n",
    "    variables_i = pd.concat([variables_i, new_variables_0], axis=1)\n",
    "    pricei_price0 = price_raw_i[1:] - price_raw_0[1:]\n",
    "    pricei_price0.index = range(len(pricei_price0))\n",
    "    variables_i[10] = pricei_price0[:65]# 得到pi-p0\n",
    "    variables_i.columns = ['i', 'i-1', 'i-2', 'i-3', 'i-4','t-1','t-2','t-3','t-4','i-t']\n",
    "    filename = '../data/changsanjiao/regression_0/vecm/' + str(i) + '-0' + '.csv'\n",
    "    variables_i.to_csv(filename, encoding = 'gb18030', index=None)"
   ]
  },
  {
   "cell_type": "code",
   "execution_count": null,
   "metadata": {
    "collapsed": true
   },
   "outputs": [],
   "source": []
  }
 ],
 "metadata": {
  "kernelspec": {
   "display_name": "Python 2",
   "language": "python",
   "name": "python2"
  },
  "language_info": {
   "codemirror_mode": {
    "name": "ipython",
    "version": 2
   },
   "file_extension": ".py",
   "mimetype": "text/x-python",
   "name": "python",
   "nbconvert_exporter": "python",
   "pygments_lexer": "ipython2",
   "version": "2.7.11"
  }
 },
 "nbformat": 4,
 "nbformat_minor": 0
}
