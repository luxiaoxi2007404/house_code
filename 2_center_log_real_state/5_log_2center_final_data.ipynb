{
 "cells": [
  {
   "cell_type": "markdown",
   "metadata": {},
   "source": [
    "# 按照论文中的要求，将长三角19个城市的价格、乘积数据及滞后项整理出来"
   ]
  },
  {
   "cell_type": "code",
   "execution_count": 1,
   "metadata": {
    "collapsed": true
   },
   "outputs": [],
   "source": [
    "import numpy as np\n",
    "from pandas import Series, DataFrame\n",
    "import pandas as pd"
   ]
  },
  {
   "cell_type": "code",
   "execution_count": 2,
   "metadata": {
    "collapsed": false
   },
   "outputs": [],
   "source": [
    "price = pd.read_csv(\"../data/changsanjiao/price_reverse_changsanjiao.csv\", encoding = 'gb18030')\n",
    "product = pd.read_csv(\"../data/changsanjiao/product_changsanjiao.csv\", encoding = 'gb18030')"
   ]
  },
  {
   "cell_type": "markdown",
   "metadata": {},
   "source": [
    "## 城市0的处理"
   ]
  },
  {
   "cell_type": "code",
   "execution_count": 3,
   "metadata": {
    "collapsed": false
   },
   "outputs": [],
   "source": [
    "i = 0\n",
    "variables_0 = DataFrame()\n",
    "\n",
    "price_raw_0 = price.xs(i)\n",
    "price_i = price.xs(i)\n",
    "price_i = price_i.diff()[1:]\n",
    "price_i = -1 * price_i\n",
    "price_i.index = range(len(price_i)) # 得到第0行数据的差分\n",
    "\n",
    "for j in range(0, 5):\n",
    "    temp = price_i[j:(65+j)]\n",
    "    temp.index = range(len(temp))\n",
    "    variables_0[j] = temp\n",
    "    \n",
    "price_raw_1 = price.xs(1)\n",
    "price_1 = price.xs(1)\n",
    "price_1 = price_1.diff()[1:]\n",
    "price_1 = -1 * price_1\n",
    "price_1.index = range(len(price_1)) # 得到第1行数据的差分\n",
    "\n",
    "for j in range(0, 5):\n",
    "    temp = price_1[j:(65+j)]\n",
    "    temp.index = range(len(temp))\n",
    "    variables_0[j + 5] = temp\n",
    "\n",
    "product_raw = product.xs(i)\n",
    "product_i = product.xs(i)\n",
    "product_i = product_i.diff()[1:]\n",
    "product_i = -1 * product_i\n",
    "product_i.index = range(len(product_i))\n",
    "\n",
    "for j in range(0, 4):\n",
    "    temp = product_i[j+1:(66+j)]\n",
    "    temp.index = range(len(temp))\n",
    "    variables_0[j+10] = temp\n",
    "\n",
    "price_product = price_raw_0[1:] - product_raw[1:]\n",
    "price_product.index = range(len(price_product))\n",
    "variables_0[15] = price_product[:65]\n",
    "\n",
    "price0_price1 = price_raw_0[1:] - price_raw_1[1:]\n",
    "price0_price1.index = range(len(price0_price1))\n",
    "variables_0[16] = price0_price1[:65]\n",
    "\n",
    "variables_0.columns = ['t', 't-1', 't-2', 't-3', 't-4','t1','t1-1','t1-2','t1-3','t1-4','p-1', 'p-2', 'p-3', 'p-4', 't-p','t0-t1']\n",
    "\n",
    "filename = '../data/changsanjiao/regression_0/' + str(i) + '.csv'\n",
    "variables_0.to_csv(filename, encoding = 'gb18030', index=None)"
   ]
  },
  {
   "cell_type": "code",
   "execution_count": 4,
   "metadata": {
    "collapsed": false
   },
   "outputs": [],
   "source": [
    "new_variables_0 = variables_0[['t', 't-1', 't-2', 't-3', 't-4']]\n",
    "new_variables_0.columns = ['t0', 't0-1', 't0-2', 't0-3', 't0-4']"
   ]
  },
  {
   "cell_type": "markdown",
   "metadata": {},
   "source": [
    "## 城市1的处理"
   ]
  },
  {
   "cell_type": "code",
   "execution_count": 5,
   "metadata": {
    "collapsed": false
   },
   "outputs": [],
   "source": [
    "i = 1\n",
    "variables_1 = DataFrame()\n",
    "\n",
    "price_raw_1 = price.xs(i)\n",
    "price_i = price.xs(i)\n",
    "price_i = price_i.diff()[1:]\n",
    "price_i = -1 * price_i\n",
    "price_i.index = range(len(price_i)) # 得到第i行数据的差分\n",
    "\n",
    "for j in range(0, 5):\n",
    "    temp = price_i[j:(65+j)]\n",
    "    temp.index = range(len(temp))\n",
    "    variables_1[j] = temp\n",
    "\n",
    "product_raw = product.xs(i)\n",
    "product_i = product.xs(i)\n",
    "product_i = product_i.diff()[1:]\n",
    "product_i = -1 * product_i\n",
    "product_i.index = range(len(product_i))\n",
    "\n",
    "for j in range(0, 4):\n",
    "    temp = product_i[j+1:(66+j)]\n",
    "    temp.index = range(len(temp))\n",
    "    variables_1[j+5] = temp\n",
    "\n",
    "price_product = price_raw_1[1:] - product_raw[1:]\n",
    "price_product.index = range(len(price_product))\n",
    "variables_1[9] = price_product[:65]\n",
    "\n",
    "price1_price0 = price_raw_1[1:] - price_raw_0[1:]\n",
    "price1_price0.index = range(len(price1_price0))\n",
    "variables_1[10] = price1_price0[:65]\n",
    "\n",
    "variables_1.columns = ['t', 't-1', 't-2', 't-3', 't-4', 'p-1', 'p-2', 'p-3', 'p-4', 't-p','t1-t0']\n",
    "variables_1 = pd.concat([variables_1, new_variables_0], axis=1)\n",
    "    \n",
    "filename = '../data/changsanjiao/regression_0/' + str(i) + '.csv'\n",
    "variables_1.to_csv(filename, encoding = 'gb18030', index=None)"
   ]
  },
  {
   "cell_type": "code",
   "execution_count": 6,
   "metadata": {
    "collapsed": false
   },
   "outputs": [],
   "source": [
    "new_variables_1 = variables_1[['t', 't-1', 't-2', 't-3', 't-4']]\n",
    "new_variables_1.columns = ['t1', 't1-1', 't1-2', 't1-3', 't1-4']"
   ]
  },
  {
   "cell_type": "markdown",
   "metadata": {},
   "source": [
    "## 非中心城市的处理"
   ]
  },
  {
   "cell_type": "code",
   "execution_count": 7,
   "metadata": {
    "collapsed": false
   },
   "outputs": [],
   "source": [
    "for i in range(2, 19):\n",
    "    variables = DataFrame()\n",
    "\n",
    "    price_raw = price.xs(i)\n",
    "    price_i = price.xs(i)\n",
    "    price_i = price_i.diff()[1:]\n",
    "    price_i = -1 * price_i\n",
    "    price_i.index = range(len(price_i))\n",
    "\n",
    "    for j in range(0, 5):\n",
    "        temp = price_i[j:(65+j)]\n",
    "        temp.index = range(len(temp))\n",
    "        variables[j] = temp\n",
    "\n",
    "    product_raw = product.xs(i)\n",
    "    product_i = product.xs(i)\n",
    "    product_i = product_i.diff()[1:]\n",
    "    product_i = -1 * product_i\n",
    "    product_i.index = range(len(product_i))\n",
    "\n",
    "    for j in range(0, 4):\n",
    "        temp = product_i[j+1:(66+j)]\n",
    "        temp.index = range(len(temp))\n",
    "        variables[j+5] = temp\n",
    "\n",
    "    price_product = price_raw[1:] - product_raw[1:]\n",
    "    price_product.index = range(len(price_product))\n",
    "    variables[9] = price_product[:65]\n",
    "    \n",
    "    price_price_0 = price_raw[1:] - price_raw_0[1:]\n",
    "    price_price_0.index = range(len(price_price_0))\n",
    "    variables[10] = price_price_0[:65]  \n",
    "    \n",
    "    price_price_1 = price_raw[1:] - price_raw_1[1:]\n",
    "    price_price_1.index = range(len(price_price_0))\n",
    "    variables[11] = price_price_1[:65]\n",
    "    \n",
    "\n",
    "    variables.columns = ['t', 't-1', 't-2', 't-3', 't-4', 'p-1', 'p-2', 'p-3', 'p-4', 't-p', 't-t0','t-t1']\n",
    "    variables = pd.concat([variables, new_variables_0, new_variables_1], axis=1)\n",
    "    \n",
    "    filename = '../data/changsanjiao/regression_0/' + str(i) + '.csv'\n",
    "    variables.to_csv(filename, encoding = 'gb18030', index=None)"
   ]
  },
  {
   "cell_type": "code",
   "execution_count": null,
   "metadata": {
    "collapsed": true
   },
   "outputs": [],
   "source": []
  }
 ],
 "metadata": {
  "kernelspec": {
   "display_name": "Python 2",
   "language": "python",
   "name": "python2"
  },
  "language_info": {
   "codemirror_mode": {
    "name": "ipython",
    "version": 2
   },
   "file_extension": ".py",
   "mimetype": "text/x-python",
   "name": "python",
   "nbconvert_exporter": "python",
   "pygments_lexer": "ipython2",
   "version": "2.7.11"
  }
 },
 "nbformat": 4,
 "nbformat_minor": 0
}
