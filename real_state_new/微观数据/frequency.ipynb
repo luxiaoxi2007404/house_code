{
 "cells": [
  {
   "cell_type": "markdown",
   "metadata": {},
   "source": [
    "# 计算47个csv文件中，小区名称出现的次数，并按降序排列"
   ]
  },
  {
   "cell_type": "code",
   "execution_count": null,
   "metadata": {
    "collapsed": true
   },
   "outputs": [],
   "source": [
    "# 载入必要的模块\n",
    "import numpy as np\n",
    "from pandas import Series, DataFrame\n",
    "import pandas as pd"
   ]
  },
  {
   "cell_type": "code",
   "execution_count": null,
   "metadata": {
    "collapsed": false
   },
   "outputs": [],
   "source": [
    "# 创建一个空的DataFrame，将47个csv文件中的小区名称列合并，并保存在该DataFrame中\n",
    "all_data = DataFrame({'estateId_DisplayText': []})\n",
    "\n",
    "for i in range(1, 47):\n",
    "    data = pd.read_csv(\"C:/Users/31537/Downloads/Project/sell/mlssell\" + str(i) + \".csv\", encoding = 'gb18030')\n",
    "    data = data[[\"estateId_DisplayText\"]]\n",
    "    all_data = pd.concat([all_data, data], ignore_index=True)"
   ]
  },
  {
   "cell_type": "code",
   "execution_count": null,
   "metadata": {
    "collapsed": false
   },
   "outputs": [],
   "source": [
    "# 将该DataFrame写出\n",
    "all_data.to_csv(\"C:/Users/31537/Downloads/Project/all_data.csv\",encoding='gb18030')"
   ]
  },
  {
   "cell_type": "code",
   "execution_count": null,
   "metadata": {
    "collapsed": false
   },
   "outputs": [],
   "source": [
    "# 将all_data的列名命名为name\n",
    "all_data.columns = [\"name\"]"
   ]
  },
  {
   "cell_type": "code",
   "execution_count": null,
   "metadata": {
    "collapsed": true
   },
   "outputs": [],
   "source": [
    "# 按小区名称进行分组\n",
    "grouped = all_data.groupby(['name'])"
   ]
  },
  {
   "cell_type": "code",
   "execution_count": null,
   "metadata": {
    "collapsed": false
   },
   "outputs": [],
   "source": [
    "# 每个小区出现的次数\n",
    "freq = grouped.size()"
   ]
  },
  {
   "cell_type": "code",
   "execution_count": null,
   "metadata": {
    "collapsed": false
   },
   "outputs": [],
   "source": [
    "# 将行索引转化为name列\n",
    "freq = freq.reset_index('name')"
   ]
  },
  {
   "cell_type": "code",
   "execution_count": null,
   "metadata": {
    "collapsed": true
   },
   "outputs": [],
   "source": [
    "# 将列名设置为name、freq\n",
    "freq.columns = ['name', 'freq']"
   ]
  },
  {
   "cell_type": "code",
   "execution_count": null,
   "metadata": {
    "collapsed": true
   },
   "outputs": [],
   "source": [
    "# 按照小区出现次数降序排列\n",
    "freq = freq.sort_values(by=['freq'], ascending=False)"
   ]
  },
  {
   "cell_type": "code",
   "execution_count": null,
   "metadata": {
    "collapsed": true
   },
   "outputs": [],
   "source": [
    "# 将freq写出\n",
    "freq.to_csv(\"C:/Users/31537/Downloads/Project/freq.csv\",encoding='gb18030')"
   ]
  }
 ],
 "metadata": {
  "kernelspec": {
   "display_name": "Python 2",
   "language": "python",
   "name": "python2"
  },
  "language_info": {
   "codemirror_mode": {
    "name": "ipython",
    "version": 2
   },
   "file_extension": ".py",
   "mimetype": "text/x-python",
   "name": "python",
   "nbconvert_exporter": "python",
   "pygments_lexer": "ipython2",
   "version": "2.7.11"
  }
 },
 "nbformat": 4,
 "nbformat_minor": 0
}
