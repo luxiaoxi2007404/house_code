{
 "cells": [
  {
   "cell_type": "markdown",
   "metadata": {},
   "source": [
    "# 读取47个文件中的小区名称，删去重复项"
   ]
  },
  {
   "cell_type": "code",
   "execution_count": null,
   "metadata": {
    "collapsed": true
   },
   "outputs": [],
   "source": [
    "# 载入必要的模块\n",
    "import numpy as np\n",
    "from pandas import Series, DataFrame\n",
    "import pandas as pd"
   ]
  },
  {
   "cell_type": "code",
   "execution_count": null,
   "metadata": {
    "collapsed": false
   },
   "outputs": [],
   "source": [
    "# 读取47个文件中的小区名称，删去重复项，并写出\n",
    "all_data = Series([])\n",
    "\n",
    "for i in range(1, 47):\n",
    "    data = pd.read_csv(\"C:/Users/31537/Downloads/sell/mlssell\" + str(i) + \".csv\", encoding = 'gb18030')\n",
    "    data = data[\"estateId_DisplayText\"]\n",
    "    data = data.unique()\n",
    "    data = Series(data)\n",
    "    all_data = pd.concat([all_data, data], ignore_index=True)\n",
    "\n",
    "all_data = all_data.unique()\n",
    "all_data = Series(all_data)\n",
    "all_data.shape\n",
    "all_data.to_csv(\"C:/Users/31537/Downloads/all_real_estate.csv\",encoding='gb18030')"
   ]
  }
 ],
 "metadata": {
  "kernelspec": {
   "display_name": "Python 2",
   "language": "python",
   "name": "python2"
  },
  "language_info": {
   "codemirror_mode": {
    "name": "ipython",
    "version": 2
   },
   "file_extension": ".py",
   "mimetype": "text/x-python",
   "name": "python",
   "nbconvert_exporter": "python",
   "pygments_lexer": "ipython2",
   "version": "2.7.11"
  }
 },
 "nbformat": 4,
 "nbformat_minor": 0
}
