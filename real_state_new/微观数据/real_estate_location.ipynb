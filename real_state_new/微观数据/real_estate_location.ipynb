{
 "cells": [
  {
   "cell_type": "markdown",
   "metadata": {},
   "source": [
    "# 查询小区的坐标，并对无查询结果的 "
   ]
  },
  {
   "cell_type": "markdown",
   "metadata": {},
   "source": [
    "已经有的密钥：\n",
    "+ 登录名：blue_liberty@qq.com  \n",
    "  邮箱：blue_liberty@qq.com  \n",
    "  手机号：13708041691  \n",
    "  密钥：42Tm8e7Khmsi3IuTB15wKCGsejjvZV0e\n",
    "  \n",
    "  \n",
    "+ 登录名：13708041691  \n",
    "  邮箱：blue_liberty@163.com  \n",
    "  手机号：18349368961  \n",
    "  密钥：Rm4oiaWBcithZtuWArB5lPm2oxptk7ig  \n",
    "  \n",
    "  \n",
    "+ 密钥：7QP1yCu8hlfwV3QV1mAhkmpmp0kR2K8d\n",
    "\n",
    "\n",
    "+ 密钥：2b6XPUZbwNOb8dAGkez2SNfb4hA8p5eV\n",
    "\n",
    "\n",
    "+ 登录名：15395325356  \n",
    "  密码：13083035356  \n",
    "  邮箱：315373812@qq.com  \n",
    "  密钥：4gYOPlFkxGd5hCXaiK3BQ2oMKUs061TY\n",
    "  \n",
    "  \n",
    "+ 登录名：13675539062  \n",
    "  密码：13083035356  \n",
    "  邮箱：13708041691@163.com  \n",
    "  密钥：EeS0kjMaeFQIoGu2KFRiGaFECqXI1pdi"
   ]
  },
  {
   "cell_type": "code",
   "execution_count": null,
   "metadata": {
    "collapsed": false
   },
   "outputs": [],
   "source": [
    "# 载入必要的模块\n",
    "import numpy as np\n",
    "from pandas import Series, DataFrame\n",
    "import pandas as pd\n",
    "import json\n",
    "import requests"
   ]
  },
  {
   "cell_type": "code",
   "execution_count": null,
   "metadata": {
    "collapsed": false
   },
   "outputs": [],
   "source": [
    "# 读取保存有小区名称的csv文件，将小区名称取唯一值，转换为DataFrame，列名为name\n",
    "data = pd.read_csv(\"C:/Users/31537/Downloads/Project/location/freq_over_5.csv\", encoding = 'gb18030') # csv文件名需要调整\n",
    "\n",
    "name = data[\"sell_name\"] # 提取小区名称所在列\n",
    "\n",
    "name = Series(name)"
   ]
  },
  {
   "cell_type": "code",
   "execution_count": null,
   "metadata": {
    "collapsed": false,
    "scrolled": true
   },
   "outputs": [],
   "source": [
    "# 查看待处理的小区名称的个数\n",
    "len(name)"
   ]
  },
  {
   "cell_type": "code",
   "execution_count": null,
   "metadata": {
    "collapsed": false
   },
   "outputs": [],
   "source": [
    "# 创建一个空的DataFrame\n",
    "result = DataFrame({'name': [], 'location': [], 'address': []})\n",
    "\n",
    "# 创建一个列名符合要求的空行\n",
    "empty_txt = DataFrame({'name': [np.nan], 'location': [np.nan], 'address': [np.nan]})\n",
    "\n",
    "# 选择保留'name', 'address', 'location'三列信息\n",
    "col = ['name', 'location', 'address']\n",
    "\n",
    "# 获取小区的经纬度数据\n",
    "for s in name:\n",
    "    # 将小区名转化为utf8编码\n",
    "    s = s.encode(\"UTF-8\")\n",
    "    s = repr(s).replace('\\\\x', '%').strip(\"'\")\n",
    "    \n",
    "    # 创建API，且设置只保留1行查询结果（page_size=1）\n",
    "    url = 'http://api.map.baidu.com/place/v2/search?query=' + s + '&page_size=1&page_num=0&scope=1&region=深圳&output=json&ak=4gYOPlFkxGd5hCXaiK3BQ2oMKUs061TY'\n",
    "    \n",
    "    resp = requests.get(url)\n",
    "    data1 = json.loads(resp.text)\n",
    "    txt = DataFrame(data1['results']).ix[:0, ['name', 'location', 'address']]\n",
    "    \n",
    "    # a是查询结果的行数\n",
    "    a, b = txt.shape\n",
    "    \n",
    "    # 判断查询结果是否为空，如果为空（即a为0），则在result后面加上一空行，如果不为空，则在result后面加上查询结果\n",
    "    if a == 0:\n",
    "        result = pd.concat([result, empty_txt], axis = 0, ignore_index=True)\n",
    "    else:\n",
    "        result = pd.concat([result, txt], axis = 0, ignore_index=True)\n",
    "    \n",
    "    # 将查询结果是否为空，显示出来\n",
    "    print a,"
   ]
  },
  {
   "cell_type": "code",
   "execution_count": null,
   "metadata": {
    "collapsed": false
   },
   "outputs": [],
   "source": [
    "# 查看获取了经纬度的小区个数\n",
    "result.shape"
   ]
  },
  {
   "cell_type": "code",
   "execution_count": null,
   "metadata": {
    "collapsed": false
   },
   "outputs": [],
   "source": [
    "# 预览爬取的小区坐标\n",
    "result"
   ]
  },
  {
   "cell_type": "code",
   "execution_count": null,
   "metadata": {
    "collapsed": false
   },
   "outputs": [],
   "source": [
    "# 将result写入名为raw_coordinate的csv文件中\n",
    "result.to_csv(\"C:/Users/31537/Downloads/Project/location/raw_coordinate.csv\",encoding='gb18030')"
   ]
  },
  {
   "cell_type": "code",
   "execution_count": null,
   "metadata": {
    "collapsed": false
   },
   "outputs": [],
   "source": [
    "# 处理'location'列，将经度和纬度分离，并写入名为final_coordinate的csv文件中\n",
    "\n",
    "# 选取location列\n",
    "location = result['location']\n",
    "\n",
    "# 创建空列表，后续分离的经纬度将会存放在该列表中\n",
    "location_result = []\n",
    "\n",
    "# 将经度和纬度分离，并进行必要的字符串处理\n",
    "for raw_location in location:\n",
    "    # 创建一个临时的列表容器\n",
    "    temp_result = []\n",
    "        \n",
    "    # 将经纬度分离\n",
    "    temp_coordinate = str(raw_location).split(\",\")\n",
    "    \n",
    "    # 进行必要的字符串处理，将结果放入temp_result中\n",
    "    for loc in temp_coordinate:\n",
    "        loc = loc.strip(\"{u'lat': \").strip(\" u'lng': \").strip(\"}\")\n",
    "        temp_result.append(loc)\n",
    "    \n",
    "    location_result.append(temp_result)\n",
    "\n",
    "# 将存放分离的经纬度的列表转换为DataFrame\n",
    "final_coordinate = DataFrame(location_result)\n",
    "\n",
    "# 将存放分离的经纬度的DataFrame，写入名为final_coordinate的csv文件中\n",
    "final_coordinate.to_csv(\"C:/Users/31537/Downloads/Project/location/final_coordinate.csv\",encoding='gb18030')"
   ]
  }
 ],
 "metadata": {
  "kernelspec": {
   "display_name": "Python 2",
   "language": "python",
   "name": "python2"
  },
  "language_info": {
   "codemirror_mode": {
    "name": "ipython",
    "version": 2
   },
   "file_extension": ".py",
   "mimetype": "text/x-python",
   "name": "python",
   "nbconvert_exporter": "python",
   "pygments_lexer": "ipython2",
   "version": "2.7.11"
  }
 },
 "nbformat": 4,
 "nbformat_minor": 0
}
