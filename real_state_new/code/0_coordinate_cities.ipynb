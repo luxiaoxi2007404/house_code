{
 "cells": [
  {
   "cell_type": "markdown",
   "metadata": {},
   "source": [
    "# 爬取百城的经纬度坐标\n",
    "以该市人民政府所在地代表该市"
   ]
  },
  {
   "cell_type": "code",
   "execution_count": null,
   "metadata": {
    "collapsed": false
   },
   "outputs": [],
   "source": [
    "# 载入必要的模块\n",
    "import json\n",
    "import requests\n",
    "import numpy as np\n",
    "from pandas import Series, DataFrame\n",
    "import pandas as pd\n",
    "\n",
    "# 创建一个空的DataFrame，并选择保留'name', 'address', 'location'三列信息\n",
    "df = {'name': [], 'address': [], 'location': []}\n",
    "result = DataFrame(df)\n",
    "\n",
    "col = ['name', 'address', 'location']"
   ]
  },
  {
   "cell_type": "code",
   "execution_count": null,
   "metadata": {
    "collapsed": false
   },
   "outputs": [],
   "source": [
    "# 读取保存有百城名称的csv文件，并将DataFrame转化为Series\n",
    "city = pd.read_csv(\"../data/cities.csv\", encoding = 'gb18030')\n",
    "city = Series(city['city'])"
   ]
  },
  {
   "cell_type": "code",
   "execution_count": null,
   "metadata": {
    "collapsed": false
   },
   "outputs": [],
   "source": [
    "# 将城市名转化为utf8编码，并在其后添加“市政府”的utf8编码\n",
    "for i in range(len(city)):\n",
    "    city[i] = repr(city[i].encode(\"UTF-8\")).replace('\\\\x', '%').strip(\"'\") + '%e5%b8%82%e6%94%bf%e5%ba%9c'"
   ]
  },
  {
   "cell_type": "code",
   "execution_count": null,
   "metadata": {
    "collapsed": false
   },
   "outputs": [],
   "source": [
    "# for-loop，爬取百城坐标\n",
    "for i in range(len(city)):\n",
    "    url = 'http://api.map.baidu.com/place/v2/search?query=' + city[i] + '&page_size=5&page_num=0&scope=1&region=全国&output=json&ak=7QP1yCu8hlfwV3QV1mAhkmpmp0kR2K8d'\n",
    "    resp = requests.get(url)\n",
    "    data = json.loads(resp.text)\n",
    "    txt = DataFrame(data['results']).ix[:0, ['name', 'location', 'address']]\n",
    "    result = pd.concat([result, txt], axis = 0, ignore_index=True)"
   ]
  },
  {
   "cell_type": "code",
   "execution_count": null,
   "metadata": {
    "collapsed": false
   },
   "outputs": [],
   "source": [
    "# 预览爬取的百城坐标\n",
    "result"
   ]
  },
  {
   "cell_type": "code",
   "execution_count": null,
   "metadata": {
    "collapsed": true
   },
   "outputs": [],
   "source": [
    "# 将result写入名为raw_coordinate的csv文件中\n",
    "result.to_csv(\"../data/raw_coordinate.csv\",encoding='gb18030')"
   ]
  },
  {
   "cell_type": "code",
   "execution_count": null,
   "metadata": {
    "collapsed": true
   },
   "outputs": [],
   "source": [
    "# 处理'location'列，将经度和纬度分离，并写入名为final_coordinate的csv文件中\n",
    "\n",
    "# 选取location列\n",
    "location = result['location']\n",
    "\n",
    "# 创建空列表，后续分离的经纬度将会存放在该列表中\n",
    "location_result = []\n",
    "\n",
    "# 将经度和纬度分离，并进行必要的字符串处理\n",
    "for raw_location in location:\n",
    "    # 创建一个临时的列表容器\n",
    "    temp_result = []\n",
    "        \n",
    "    # 将经纬度分离\n",
    "    temp_coordinate = str(raw_location).split(\",\")\n",
    "    \n",
    "    # 进行必要的字符串处理，将结果放入temp_result中\n",
    "    for loc in temp_coordinate:\n",
    "        loc = loc.strip(\"{u'lat': \").strip(\" u'lng': \").strip(\"}\")\n",
    "        temp_result.append(loc)\n",
    "    \n",
    "    location_result.append(temp_result)\n",
    "\n",
    "# 将存放分离的经纬度的列表转换为DataFrame\n",
    "final_coordinate = DataFrame(location_result)\n",
    "\n",
    "# 将存放分离的经纬度的DataFrame，写入名为final_coordinate的csv文件中\n",
    "final_coordinate.to_csv(\"../data/final_coordinate.csv\",encoding='gb18030')"
   ]
  },
  {
   "cell_type": "code",
   "execution_count": null,
   "metadata": {
    "collapsed": true
   },
   "outputs": [],
   "source": [
    "# 对个别存在问题的城市坐标，进行手工爬取\n",
    "url = 'http://api.map.baidu.com/place/v2/search?query=无锡市人民政府&page_size=5&page_num=0&scope=1&region=全国&output=json&ak=7QP1yCu8hlfwV3QV1mAhkmpmp0kR2K8d'\n",
    "resp = requests.get(url)\n",
    "data = json.loads(resp.text)\n",
    "txt = DataFrame(data['results'], columns = col)"
   ]
  },
  {
   "cell_type": "code",
   "execution_count": null,
   "metadata": {
    "collapsed": true
   },
   "outputs": [],
   "source": [
    "# 预览手工爬取的城市坐标\n",
    "txt"
   ]
  }
 ],
 "metadata": {
  "kernelspec": {
   "display_name": "Python 2",
   "language": "python",
   "name": "python2"
  },
  "language_info": {
   "codemirror_mode": {
    "name": "ipython",
    "version": 2
   },
   "file_extension": ".py",
   "mimetype": "text/x-python",
   "name": "python",
   "nbconvert_exporter": "python",
   "pygments_lexer": "ipython2",
   "version": "2.7.11"
  }
 },
 "nbformat": 4,
 "nbformat_minor": 0
}
