{
 "cells": [
  {
   "cell_type": "markdown",
   "metadata": {},
   "source": [
    "# 将百城2010年6月到2016年3月的房价整合到包含坐标的excel表中"
   ]
  },
  {
   "cell_type": "code",
   "execution_count": null,
   "metadata": {
    "collapsed": true
   },
   "outputs": [],
   "source": [
    "import numpy as np\n",
    "from pandas import Series, DataFrame\n",
    "import pandas as pd"
   ]
  },
  {
   "cell_type": "code",
   "execution_count": null,
   "metadata": {
    "collapsed": false
   },
   "outputs": [],
   "source": [
    "result = pd.read_csv(\"../data/cities_coordinate.csv\", encoding = 'gb18030')"
   ]
  },
  {
   "cell_type": "code",
   "execution_count": null,
   "metadata": {
    "collapsed": false
   },
   "outputs": [],
   "source": [
    "for i in range(201006, 201013):\n",
    "    filename = \"../data/average/\" + str(i) + '.csv'\n",
    "    data = pd.read_csv(filename, encoding = 'gb18030')\n",
    "    data = data.ix[1:,[0,1]]\n",
    "    data.index = range(len(data))\n",
    "    data.columns = ['city', i]\n",
    "    result = pd.merge(result, data)"
   ]
  },
  {
   "cell_type": "code",
   "execution_count": null,
   "metadata": {
    "collapsed": false
   },
   "outputs": [],
   "source": [
    "for i in range(2011, 2016):\n",
    "    for j in range(1, 13):\n",
    "        date = i * 100 + j\n",
    "        filename = \"../data/average/\" + str(date) + '.csv'\n",
    "        data = pd.read_csv(filename, encoding = 'gb18030')\n",
    "        data = data.ix[1:,[0,1]]\n",
    "        data.index = range(len(data))\n",
    "        data.columns = ['city', date]\n",
    "        result = pd.merge(result, data)"
   ]
  },
  {
   "cell_type": "code",
   "execution_count": null,
   "metadata": {
    "collapsed": false
   },
   "outputs": [],
   "source": [
    "for i in range(201601, 201604):\n",
    "    filename = \"../data/average/\" + str(i) + '.csv'\n",
    "    data = pd.read_csv(filename, encoding = 'gb18030')\n",
    "    data = data.ix[1:,[0,1]]\n",
    "    data.index = range(len(data))\n",
    "    data.columns = ['city', i]\n",
    "    result = pd.merge(result, data)"
   ]
  },
  {
   "cell_type": "code",
   "execution_count": null,
   "metadata": {
    "collapsed": true
   },
   "outputs": [],
   "source": [
    "result.to_csv('../data/100cities_location_price.csv',encoding = 'gb18030', index=False)"
   ]
  }
 ],
 "metadata": {
  "kernelspec": {
   "display_name": "Python 2",
   "language": "python",
   "name": "python2"
  },
  "language_info": {
   "codemirror_mode": {
    "name": "ipython",
    "version": 2
   },
   "file_extension": ".py",
   "mimetype": "text/x-python",
   "name": "python",
   "nbconvert_exporter": "python",
   "pygments_lexer": "ipython2",
   "version": "2.7.11"
  }
 },
 "nbformat": 4,
 "nbformat_minor": 0
}
