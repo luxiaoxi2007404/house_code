{
 "cells": [
  {
   "cell_type": "markdown",
   "metadata": {},
   "source": [
    "# 将46个文件读入到一起\n",
    "## 用于纵向拼接？"
   ]
  },
  {
   "cell_type": "code",
   "execution_count": 5,
   "metadata": {
    "collapsed": true
   },
   "outputs": [],
   "source": [
    "#载入必要的模块\n",
    "import numpy as np\n",
    "from pandas import Series,DataFrame\n",
    "import pandas as pd"
   ]
  },
  {
   "cell_type": "code",
   "execution_count": 6,
   "metadata": {
    "collapsed": false
   },
   "outputs": [],
   "source": [
    "all_data = DataFrame()\n",
    "\n",
    "for i in range (1,47):\n",
    "    data = pd.read_csv(\"E:\\\\house\\\\first data\\\\sell\\\\mlssell\" + str(i) + \".csv\" ,encoding = 'gb18030')\n",
    "    data = data[[\"estateId_DisplayText\"]]   #提取其中感兴趣的一列，若没有这一行，直接合并所有文件\n",
    "    all_data = pd.concat([all_data, data], ignore_index=True)"
   ]
  },
  {
   "cell_type": "code",
   "execution_count": 8,
   "metadata": {
    "collapsed": true
   },
   "outputs": [],
   "source": [
    "all_data.to_csv(\"E:\\\\house\\\\first data\\\\sell\\\\all_data.csv\",encoding = 'gb18030')"
   ]
  },
  {
   "cell_type": "markdown",
   "metadata": {},
   "source": [
    "# 对一列中的数据进行分类统计\n",
    "## 本例中，找出小区名称的频率，并按降序排列"
   ]
  },
  {
   "cell_type": "code",
   "execution_count": 26,
   "metadata": {
    "collapsed": true
   },
   "outputs": [],
   "source": [
    "#换一个简单的列名\n",
    "all_data.columns = [\"name\"]      "
   ]
  },
  {
   "cell_type": "code",
   "execution_count": 27,
   "metadata": {
    "collapsed": false
   },
   "outputs": [],
   "source": [
    "#按小区名分组\n",
    "groups = all_data.groupby([\"name\"])   "
   ]
  },
  {
   "cell_type": "code",
   "execution_count": 28,
   "metadata": {
    "collapsed": true
   },
   "outputs": [],
   "source": [
    "#统计各组数目\n",
    "freq = groups.size()   "
   ]
  },
  {
   "cell_type": "code",
   "execution_count": 32,
   "metadata": {
    "collapsed": false
   },
   "outputs": [],
   "source": [
    "#将name设为行索引\n",
    "freq = freq.reset_index(\"name\")"
   ]
  },
  {
   "cell_type": "code",
   "execution_count": 33,
   "metadata": {
    "collapsed": false
   },
   "outputs": [],
   "source": [
    "#将 name，freq 设为列索引\n",
    "freq.columns = [\"name\",\"freq\"]"
   ]
  },
  {
   "cell_type": "code",
   "execution_count": 34,
   "metadata": {
    "collapsed": false
   },
   "outputs": [],
   "source": [
    "#按降序排列\n",
    "freq = freq.sort_values(by=[\"freq\"], ascending = False)"
   ]
  },
  {
   "cell_type": "code",
   "execution_count": 36,
   "metadata": {
    "collapsed": true
   },
   "outputs": [],
   "source": [
    "#写出\n",
    "freq.to_csv(\"E:\\\\house\\\\first data\\\\sell\\\\freq.csv\",encoding = 'gb18030')"
   ]
  }
 ],
 "metadata": {
  "kernelspec": {
   "display_name": "Python 2",
   "language": "python",
   "name": "python2"
  },
  "language_info": {
   "codemirror_mode": {
    "name": "ipython",
    "version": 2
   },
   "file_extension": ".py",
   "mimetype": "text/x-python",
   "name": "python",
   "nbconvert_exporter": "python",
   "pygments_lexer": "ipython2",
   "version": "2.7.11"
  }
 },
 "nbformat": 4,
 "nbformat_minor": 0
}
