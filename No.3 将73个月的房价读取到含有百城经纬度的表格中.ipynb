{
 "cells": [
  {
   "cell_type": "markdown",
   "metadata": {},
   "source": [
    "# 将73个月的房价读取到含有百城经纬度的表格中\n",
    "## 用于横向合并？"
   ]
  },
  {
   "cell_type": "code",
   "execution_count": null,
   "metadata": {
    "collapsed": true
   },
   "outputs": [],
   "source": [
    "#载入必要的模块\n",
    "import numpy as np\n",
    "from pandas import Series,DataFrame\n",
    "import pandas as pd"
   ]
  },
  {
   "cell_type": "code",
   "execution_count": null,
   "metadata": {
    "collapsed": true
   },
   "outputs": [],
   "source": [
    "#读入经纬度表格\n",
    "result  = pd.read_csv(\"C:/Users/Administrator/Documents/Python Scripts/the copy of lxx/data/cities_coordinate.csv\" ,encoding = 'gb18030')"
   ]
  },
  {
   "cell_type": "code",
   "execution_count": null,
   "metadata": {
    "collapsed": false
   },
   "outputs": [],
   "source": [
    "#读入每月份的价格数据\n",
    "for i in range (201006,201013):\n",
    "    filename = 'C:/Users/Administrator/Documents/Python Scripts/the copy of lxx/data/average/' + str(i) + '.csv'\n",
    "    data = pd.read_csv(filename,encoding = 'gb18030')\n",
    "    data = data.ix[:,[0,1]]\n",
    "    data.columns = ['city',i]\n",
    "    result = pd.merge(result, data)"
   ]
  },
  {
   "cell_type": "code",
   "execution_count": null,
   "metadata": {
    "collapsed": true
   },
   "outputs": [],
   "source": [
    "for i in range (2011,2016):\n",
    "    for j in range (1,13):\n",
    "        date = i * 100 + j\n",
    "        filename = 'C:/Users/Administrator/Documents/Python Scripts/the copy of lxx/data/average/' + str(date) + '.csv'\n",
    "        data = pd.read_csv(filename,encoding = 'gb18030')\n",
    "        data = data.ix[:,[0,1]]\n",
    "        data.columns = ['city',date]\n",
    "        result = pd.merge(result, data)"
   ]
  },
  {
   "cell_type": "code",
   "execution_count": null,
   "metadata": {
    "collapsed": true
   },
   "outputs": [],
   "source": [
    "for i in range (201601,201604):\n",
    "    filename = 'C:/Users/Administrator/Documents/Python Scripts/the copy of lxx/data/average/' + str(i) + '.csv'\n",
    "    data = pd.read_csv(filename,encoding = 'gb18030')\n",
    "    data = data.ix[:,[0,1]]\n",
    "    data.columns = ['city',i]\n",
    "    result = pd.merge(result, data)"
   ]
  },
  {
   "cell_type": "code",
   "execution_count": null,
   "metadata": {
    "collapsed": false
   },
   "outputs": [],
   "source": [
    "result.to_csv(\"C:/Users/Administrator/Documents/Python Scripts/the copy of lxx/data/100_price_location.csv\",encoding = 'gb18030')"
   ]
  }
 ],
 "metadata": {
  "kernelspec": {
   "display_name": "Python 2",
   "language": "python",
   "name": "python2"
  },
  "language_info": {
   "codemirror_mode": {
    "name": "ipython",
    "version": 2
   },
   "file_extension": ".py",
   "mimetype": "text/x-python",
   "name": "python",
   "nbconvert_exporter": "python",
   "pygments_lexer": "ipython2",
   "version": "2.7.11"
  }
 },
 "nbformat": 4,
 "nbformat_minor": 0
}
