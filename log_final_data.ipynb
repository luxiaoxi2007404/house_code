{
 "cells": [
  {
   "cell_type": "markdown",
   "metadata": {},
   "source": [
    "# 按照论文中的要求，将长三角19个城市的价格、乘积数据及滞后项整理出来"
   ]
  },
  {
   "cell_type": "code",
   "execution_count": 1,
   "metadata": {
    "collapsed": true
   },
   "outputs": [],
   "source": [
    "import numpy as np\n",
    "from pandas import Series, DataFrame\n",
    "import pandas as pd"
   ]
  },
  {
   "cell_type": "code",
   "execution_count": 2,
   "metadata": {
    "collapsed": false
   },
   "outputs": [],
   "source": [
    "price = pd.read_csv(\"../data/changsanjiao/price_reverse_changsanjiao.csv\", encoding = 'gb18030')\n",
    "product = pd.read_csv(\"../data/changsanjiao/product_changsanjiao.csv\", encoding = 'gb18030')"
   ]
  },
  {
   "cell_type": "code",
   "execution_count": 3,
   "metadata": {
    "collapsed": false
   },
   "outputs": [],
   "source": [
    "i = 0\n",
    "variables_0 = DataFrame()\n",
    "\n",
    "price_raw_0 = price.xs(i)\n",
    "price_i = price.xs(i)\n",
    "price_i = price_i.diff()[1:]\n",
    "price_i = -1 * price_i\n",
    "price_i.index = range(len(price_i))\n",
    "\n",
    "for j in range(0, 5):\n",
    "    temp = price_i[j:(65+j)]\n",
    "    temp.index = range(len(temp))\n",
    "    variables_0[j] = temp\n",
    "\n",
    "product_raw = product.xs(i)\n",
    "product_i = product.xs(i)\n",
    "product_i = product_i.diff()[1:]\n",
    "product_i = -1 * product_i\n",
    "product_i.index = range(len(product_i))\n",
    "\n",
    "for j in range(0, 4):\n",
    "    temp = product_i[j+1:(66+j)]\n",
    "    temp.index = range(len(temp))\n",
    "    variables_0[j+5] = temp\n",
    "\n",
    "price_product = price_raw_0[1:] - product_raw[1:]\n",
    "price_product.index = range(len(price_product))\n",
    "variables_0[9] = price_product[:65]\n",
    "\n",
    "variables_0.columns = ['t', 't-1', 't-2', 't-3', 't-4', 'p-1', 'p-2', 'p-3', 'p-4', 't-p']\n",
    "\n",
    "filename = '../data/changsanjiao/regression_0/' + str(i) + '.csv'\n",
    "variables_0.to_csv(filename, encoding = 'gb18030', index=None)"
   ]
  },
  {
   "cell_type": "code",
   "execution_count": 4,
   "metadata": {
    "collapsed": false
   },
   "outputs": [],
   "source": [
    "variables_0 = variables_0[['t', 't-1', 't-2', 't-3', 't-4']]\n",
    "variables_0.columns = ['t0', 't0-1', 't0-2', 't0-3', 't0-4']"
   ]
  },
  {
   "cell_type": "code",
   "execution_count": 5,
   "metadata": {
    "collapsed": false
   },
   "outputs": [],
   "source": [
    "for i in range(1, 19):\n",
    "    variables = DataFrame()\n",
    "\n",
    "    price_raw = price.xs(i)\n",
    "    price_i = price.xs(i)\n",
    "    price_i = price_i.diff()[1:]\n",
    "    price_i = -1 * price_i\n",
    "    price_i.index = range(len(price_i))\n",
    "\n",
    "    for j in range(0, 5):\n",
    "        temp = price_i[j:(65+j)]\n",
    "        temp.index = range(len(temp))\n",
    "        variables[j] = temp\n",
    "\n",
    "    product_raw = product.xs(i)\n",
    "    product_i = product.xs(i)\n",
    "    product_i = product_i.diff()[1:]\n",
    "    product_i = -1 * product_i\n",
    "    product_i.index = range(len(product_i))\n",
    "\n",
    "    for j in range(0, 4):\n",
    "        temp = product_i[j+1:(66+j)]\n",
    "        temp.index = range(len(temp))\n",
    "        variables[j+5] = temp\n",
    "\n",
    "    price_product = price_raw[1:] - product_raw[1:]\n",
    "    price_product.index = range(len(price_product))\n",
    "    variables[9] = price_product[:65]\n",
    "    \n",
    "    price_price_0 = price_raw[1:] - price_raw_0[1:]\n",
    "    price_price_0.index = range(len(price_price_0))\n",
    "    variables[10] = price_price_0[:65]    \n",
    "\n",
    "    variables.columns = ['t', 't-1', 't-2', 't-3', 't-4', 'p-1', 'p-2', 'p-3', 'p-4', 't-p', 't-t0']\n",
    "    variables = pd.concat([variables, variables_0], axis=1)\n",
    "    \n",
    "    filename = '../data/changsanjiao/regression_0/' + str(i) + '.csv'\n",
    "    variables.to_csv(filename, encoding = 'gb18030', index=None)"
   ]
  },
  {
   "cell_type": "code",
   "execution_count": null,
   "metadata": {
    "collapsed": true
   },
   "outputs": [],
   "source": []
  }
 ],
 "metadata": {
  "kernelspec": {
   "display_name": "Python 2",
   "language": "python",
   "name": "python2"
  },
  "language_info": {
   "codemirror_mode": {
    "name": "ipython",
    "version": 2
   },
   "file_extension": ".py",
   "mimetype": "text/x-python",
   "name": "python",
   "nbconvert_exporter": "python",
   "pygments_lexer": "ipython2",
   "version": "2.7.11"
  }
 },
 "nbformat": 4,
 "nbformat_minor": 0
}
